{
  "nbformat": 4,
  "nbformat_minor": 0,
  "metadata": {
    "colab": {
      "provenance": []
    },
    "kernelspec": {
      "name": "python3",
      "display_name": "Python 3"
    },
    "language_info": {
      "name": "python"
    }
  },
  "cells": [
    {
      "cell_type": "code",
      "source": [
        "!pip install cassandra-driver\n"
      ],
      "metadata": {
        "id": "ltU62C3NHScI",
        "colab": {
          "base_uri": "https://localhost:8080/"
        },
        "outputId": "4f7c06b2-380d-47ec-f027-ad0fd615dcbc"
      },
      "execution_count": 34,
      "outputs": [
        {
          "output_type": "stream",
          "name": "stdout",
          "text": [
            "Requirement already satisfied: cassandra-driver in /usr/local/lib/python3.10/dist-packages (3.29.2)\n",
            "Requirement already satisfied: geomet<0.3,>=0.1 in /usr/local/lib/python3.10/dist-packages (from cassandra-driver) (0.2.1.post1)\n",
            "Requirement already satisfied: click in /usr/local/lib/python3.10/dist-packages (from geomet<0.3,>=0.1->cassandra-driver) (8.1.7)\n",
            "Requirement already satisfied: six in /usr/local/lib/python3.10/dist-packages (from geomet<0.3,>=0.1->cassandra-driver) (1.16.0)\n"
          ]
        }
      ]
    },
    {
      "cell_type": "code",
      "source": [
        "from cassandra.cluster import Cluster\n",
        "from cassandra.auth import PlainTextAuthProvider\n",
        "import json\n",
        "\n",
        "# Load credentials from JSON file\n",
        "with open(\"/content/sample_data/Shoyab-token.json\") as f:\n",
        "    secrets = json.load(f)\n",
        "\n",
        "CLIENT_ID = secrets[\"clientId\"]\n",
        "CLIENT_SECRET = secrets[\"secret\"]\n",
        "\n",
        "# Connect to Cassandra\n",
        "auth_provider = PlainTextAuthProvider(CLIENT_ID, CLIENT_SECRET)\n",
        "cloud_config = {\"secure_connect_bundle\": \"/content/sample_data/secure-connect-shoyab.zip\"}\n",
        "cluster = Cluster(cloud=cloud_config, auth_provider=auth_provider)\n",
        "session = cluster.connect()\n",
        "\n",
        "# Set keyspace\n",
        "session.set_keyspace('bdt')\n",
        "\n",
        "# Confirm connection\n",
        "if session:\n",
        "    print(\"Connected!\")\n",
        "else:\n",
        "    print(\"Connection failed.\")\n"
      ],
      "metadata": {
        "colab": {
          "base_uri": "https://localhost:8080/"
        },
        "id": "3poz9e8L0iOz",
        "outputId": "f156a229-7a12-4a05-92c3-1951c625d1ad"
      },
      "execution_count": 35,
      "outputs": [
        {
          "output_type": "stream",
          "name": "stderr",
          "text": [
            "WARNING:cassandra.cluster:Downgrading core protocol version from 66 to 65 for d1c02868-12a4-475a-be24-89787ee12d4c-eu-west-1.db.astra.datastax.com:29042:00694036-11ec-39fb-8238-d79afd9b0e46. To avoid this, it is best practice to explicitly set Cluster(protocol_version) to the version supported by your cluster. http://datastax.github.io/python-driver/api/cassandra/cluster.html#cassandra.cluster.Cluster.protocol_version\n",
            "WARNING:cassandra.cluster:Downgrading core protocol version from 65 to 5 for d1c02868-12a4-475a-be24-89787ee12d4c-eu-west-1.db.astra.datastax.com:29042:00694036-11ec-39fb-8238-d79afd9b0e46. To avoid this, it is best practice to explicitly set Cluster(protocol_version) to the version supported by your cluster. http://datastax.github.io/python-driver/api/cassandra/cluster.html#cassandra.cluster.Cluster.protocol_version\n",
            "WARNING:cassandra.cluster:Downgrading core protocol version from 5 to 4 for d1c02868-12a4-475a-be24-89787ee12d4c-eu-west-1.db.astra.datastax.com:29042:00694036-11ec-39fb-8238-d79afd9b0e46. To avoid this, it is best practice to explicitly set Cluster(protocol_version) to the version supported by your cluster. http://datastax.github.io/python-driver/api/cassandra/cluster.html#cassandra.cluster.Cluster.protocol_version\n"
          ]
        },
        {
          "output_type": "stream",
          "name": "stdout",
          "text": [
            "Connected!\n"
          ]
        }
      ]
    },
    {
      "cell_type": "code",
      "source": [
        "import pandas as pd\n",
        "sales_data = pd.read_csv(\"/content/sample_data/sales_100.csv\");"
      ],
      "metadata": {
        "id": "--d-pguzKaCs"
      },
      "execution_count": 36,
      "outputs": []
    },
    {
      "cell_type": "code",
      "source": [
        "sales_data.head()"
      ],
      "metadata": {
        "colab": {
          "base_uri": "https://localhost:8080/",
          "height": 417
        },
        "id": "RjEVXHqwR4lS",
        "outputId": "45aff05e-478a-4494-86b0-501e25dce0f4"
      },
      "execution_count": 37,
      "outputs": [
        {
          "output_type": "execute_result",
          "data": {
            "text/plain": [
              "                         Region           Country  Item Type Sales Channel  \\\n",
              "0            Sub-Saharan Africa      South Africa     Fruits       Offline   \n",
              "1  Middle East and North Africa           Morocco    Clothes        Online   \n",
              "2         Australia and Oceania  Papua New Guinea       Meat       Offline   \n",
              "3            Sub-Saharan Africa          Djibouti    Clothes       Offline   \n",
              "4                        Europe          Slovakia  Beverages       Offline   \n",
              "\n",
              "  Order Priority  Order Date   Order ID   Ship Date  UnitsSold  UnitPrice  \\\n",
              "0              M   7/27/2012  443368995   7/28/2012       1593       9.33   \n",
              "1              M   9/14/2013  667593514  10/19/2013       4611     109.28   \n",
              "2              M   5/15/2015  940995585    6/4/2015        360     421.89   \n",
              "3              H   5/17/2017  880811536    7/2/2017        562     109.28   \n",
              "4              L  10/26/2016  174590194   12/4/2016       3973      47.45   \n",
              "\n",
              "   UnitCost  TotalRevenue  TotalCost  TotalProfit  \n",
              "0      6.92      14862.69   11023.56      3839.13  \n",
              "1     35.84     503890.08  165258.24    338631.84  \n",
              "2    364.69     151880.40  131288.40     20592.00  \n",
              "3     35.84      61415.36   20142.08     41273.28  \n",
              "4     31.79     188518.85  126301.67     62217.18  "
            ],
            "text/html": [
              "\n",
              "  <div id=\"df-3d56de90-b5b4-4096-abd6-4ba1ef88d575\" class=\"colab-df-container\">\n",
              "    <div>\n",
              "<style scoped>\n",
              "    .dataframe tbody tr th:only-of-type {\n",
              "        vertical-align: middle;\n",
              "    }\n",
              "\n",
              "    .dataframe tbody tr th {\n",
              "        vertical-align: top;\n",
              "    }\n",
              "\n",
              "    .dataframe thead th {\n",
              "        text-align: right;\n",
              "    }\n",
              "</style>\n",
              "<table border=\"1\" class=\"dataframe\">\n",
              "  <thead>\n",
              "    <tr style=\"text-align: right;\">\n",
              "      <th></th>\n",
              "      <th>Region</th>\n",
              "      <th>Country</th>\n",
              "      <th>Item Type</th>\n",
              "      <th>Sales Channel</th>\n",
              "      <th>Order Priority</th>\n",
              "      <th>Order Date</th>\n",
              "      <th>Order ID</th>\n",
              "      <th>Ship Date</th>\n",
              "      <th>UnitsSold</th>\n",
              "      <th>UnitPrice</th>\n",
              "      <th>UnitCost</th>\n",
              "      <th>TotalRevenue</th>\n",
              "      <th>TotalCost</th>\n",
              "      <th>TotalProfit</th>\n",
              "    </tr>\n",
              "  </thead>\n",
              "  <tbody>\n",
              "    <tr>\n",
              "      <th>0</th>\n",
              "      <td>Sub-Saharan Africa</td>\n",
              "      <td>South Africa</td>\n",
              "      <td>Fruits</td>\n",
              "      <td>Offline</td>\n",
              "      <td>M</td>\n",
              "      <td>7/27/2012</td>\n",
              "      <td>443368995</td>\n",
              "      <td>7/28/2012</td>\n",
              "      <td>1593</td>\n",
              "      <td>9.33</td>\n",
              "      <td>6.92</td>\n",
              "      <td>14862.69</td>\n",
              "      <td>11023.56</td>\n",
              "      <td>3839.13</td>\n",
              "    </tr>\n",
              "    <tr>\n",
              "      <th>1</th>\n",
              "      <td>Middle East and North Africa</td>\n",
              "      <td>Morocco</td>\n",
              "      <td>Clothes</td>\n",
              "      <td>Online</td>\n",
              "      <td>M</td>\n",
              "      <td>9/14/2013</td>\n",
              "      <td>667593514</td>\n",
              "      <td>10/19/2013</td>\n",
              "      <td>4611</td>\n",
              "      <td>109.28</td>\n",
              "      <td>35.84</td>\n",
              "      <td>503890.08</td>\n",
              "      <td>165258.24</td>\n",
              "      <td>338631.84</td>\n",
              "    </tr>\n",
              "    <tr>\n",
              "      <th>2</th>\n",
              "      <td>Australia and Oceania</td>\n",
              "      <td>Papua New Guinea</td>\n",
              "      <td>Meat</td>\n",
              "      <td>Offline</td>\n",
              "      <td>M</td>\n",
              "      <td>5/15/2015</td>\n",
              "      <td>940995585</td>\n",
              "      <td>6/4/2015</td>\n",
              "      <td>360</td>\n",
              "      <td>421.89</td>\n",
              "      <td>364.69</td>\n",
              "      <td>151880.40</td>\n",
              "      <td>131288.40</td>\n",
              "      <td>20592.00</td>\n",
              "    </tr>\n",
              "    <tr>\n",
              "      <th>3</th>\n",
              "      <td>Sub-Saharan Africa</td>\n",
              "      <td>Djibouti</td>\n",
              "      <td>Clothes</td>\n",
              "      <td>Offline</td>\n",
              "      <td>H</td>\n",
              "      <td>5/17/2017</td>\n",
              "      <td>880811536</td>\n",
              "      <td>7/2/2017</td>\n",
              "      <td>562</td>\n",
              "      <td>109.28</td>\n",
              "      <td>35.84</td>\n",
              "      <td>61415.36</td>\n",
              "      <td>20142.08</td>\n",
              "      <td>41273.28</td>\n",
              "    </tr>\n",
              "    <tr>\n",
              "      <th>4</th>\n",
              "      <td>Europe</td>\n",
              "      <td>Slovakia</td>\n",
              "      <td>Beverages</td>\n",
              "      <td>Offline</td>\n",
              "      <td>L</td>\n",
              "      <td>10/26/2016</td>\n",
              "      <td>174590194</td>\n",
              "      <td>12/4/2016</td>\n",
              "      <td>3973</td>\n",
              "      <td>47.45</td>\n",
              "      <td>31.79</td>\n",
              "      <td>188518.85</td>\n",
              "      <td>126301.67</td>\n",
              "      <td>62217.18</td>\n",
              "    </tr>\n",
              "  </tbody>\n",
              "</table>\n",
              "</div>\n",
              "    <div class=\"colab-df-buttons\">\n",
              "\n",
              "  <div class=\"colab-df-container\">\n",
              "    <button class=\"colab-df-convert\" onclick=\"convertToInteractive('df-3d56de90-b5b4-4096-abd6-4ba1ef88d575')\"\n",
              "            title=\"Convert this dataframe to an interactive table.\"\n",
              "            style=\"display:none;\">\n",
              "\n",
              "  <svg xmlns=\"http://www.w3.org/2000/svg\" height=\"24px\" viewBox=\"0 -960 960 960\">\n",
              "    <path d=\"M120-120v-720h720v720H120Zm60-500h600v-160H180v160Zm220 220h160v-160H400v160Zm0 220h160v-160H400v160ZM180-400h160v-160H180v160Zm440 0h160v-160H620v160ZM180-180h160v-160H180v160Zm440 0h160v-160H620v160Z\"/>\n",
              "  </svg>\n",
              "    </button>\n",
              "\n",
              "  <style>\n",
              "    .colab-df-container {\n",
              "      display:flex;\n",
              "      gap: 12px;\n",
              "    }\n",
              "\n",
              "    .colab-df-convert {\n",
              "      background-color: #E8F0FE;\n",
              "      border: none;\n",
              "      border-radius: 50%;\n",
              "      cursor: pointer;\n",
              "      display: none;\n",
              "      fill: #1967D2;\n",
              "      height: 32px;\n",
              "      padding: 0 0 0 0;\n",
              "      width: 32px;\n",
              "    }\n",
              "\n",
              "    .colab-df-convert:hover {\n",
              "      background-color: #E2EBFA;\n",
              "      box-shadow: 0px 1px 2px rgba(60, 64, 67, 0.3), 0px 1px 3px 1px rgba(60, 64, 67, 0.15);\n",
              "      fill: #174EA6;\n",
              "    }\n",
              "\n",
              "    .colab-df-buttons div {\n",
              "      margin-bottom: 4px;\n",
              "    }\n",
              "\n",
              "    [theme=dark] .colab-df-convert {\n",
              "      background-color: #3B4455;\n",
              "      fill: #D2E3FC;\n",
              "    }\n",
              "\n",
              "    [theme=dark] .colab-df-convert:hover {\n",
              "      background-color: #434B5C;\n",
              "      box-shadow: 0px 1px 3px 1px rgba(0, 0, 0, 0.15);\n",
              "      filter: drop-shadow(0px 1px 2px rgba(0, 0, 0, 0.3));\n",
              "      fill: #FFFFFF;\n",
              "    }\n",
              "  </style>\n",
              "\n",
              "    <script>\n",
              "      const buttonEl =\n",
              "        document.querySelector('#df-3d56de90-b5b4-4096-abd6-4ba1ef88d575 button.colab-df-convert');\n",
              "      buttonEl.style.display =\n",
              "        google.colab.kernel.accessAllowed ? 'block' : 'none';\n",
              "\n",
              "      async function convertToInteractive(key) {\n",
              "        const element = document.querySelector('#df-3d56de90-b5b4-4096-abd6-4ba1ef88d575');\n",
              "        const dataTable =\n",
              "          await google.colab.kernel.invokeFunction('convertToInteractive',\n",
              "                                                    [key], {});\n",
              "        if (!dataTable) return;\n",
              "\n",
              "        const docLinkHtml = 'Like what you see? Visit the ' +\n",
              "          '<a target=\"_blank\" href=https://colab.research.google.com/notebooks/data_table.ipynb>data table notebook</a>'\n",
              "          + ' to learn more about interactive tables.';\n",
              "        element.innerHTML = '';\n",
              "        dataTable['output_type'] = 'display_data';\n",
              "        await google.colab.output.renderOutput(dataTable, element);\n",
              "        const docLink = document.createElement('div');\n",
              "        docLink.innerHTML = docLinkHtml;\n",
              "        element.appendChild(docLink);\n",
              "      }\n",
              "    </script>\n",
              "  </div>\n",
              "\n",
              "\n",
              "<div id=\"df-56b87701-ab6a-4920-a2f9-25debe45aa34\">\n",
              "  <button class=\"colab-df-quickchart\" onclick=\"quickchart('df-56b87701-ab6a-4920-a2f9-25debe45aa34')\"\n",
              "            title=\"Suggest charts\"\n",
              "            style=\"display:none;\">\n",
              "\n",
              "<svg xmlns=\"http://www.w3.org/2000/svg\" height=\"24px\"viewBox=\"0 0 24 24\"\n",
              "     width=\"24px\">\n",
              "    <g>\n",
              "        <path d=\"M19 3H5c-1.1 0-2 .9-2 2v14c0 1.1.9 2 2 2h14c1.1 0 2-.9 2-2V5c0-1.1-.9-2-2-2zM9 17H7v-7h2v7zm4 0h-2V7h2v10zm4 0h-2v-4h2v4z\"/>\n",
              "    </g>\n",
              "</svg>\n",
              "  </button>\n",
              "\n",
              "<style>\n",
              "  .colab-df-quickchart {\n",
              "      --bg-color: #E8F0FE;\n",
              "      --fill-color: #1967D2;\n",
              "      --hover-bg-color: #E2EBFA;\n",
              "      --hover-fill-color: #174EA6;\n",
              "      --disabled-fill-color: #AAA;\n",
              "      --disabled-bg-color: #DDD;\n",
              "  }\n",
              "\n",
              "  [theme=dark] .colab-df-quickchart {\n",
              "      --bg-color: #3B4455;\n",
              "      --fill-color: #D2E3FC;\n",
              "      --hover-bg-color: #434B5C;\n",
              "      --hover-fill-color: #FFFFFF;\n",
              "      --disabled-bg-color: #3B4455;\n",
              "      --disabled-fill-color: #666;\n",
              "  }\n",
              "\n",
              "  .colab-df-quickchart {\n",
              "    background-color: var(--bg-color);\n",
              "    border: none;\n",
              "    border-radius: 50%;\n",
              "    cursor: pointer;\n",
              "    display: none;\n",
              "    fill: var(--fill-color);\n",
              "    height: 32px;\n",
              "    padding: 0;\n",
              "    width: 32px;\n",
              "  }\n",
              "\n",
              "  .colab-df-quickchart:hover {\n",
              "    background-color: var(--hover-bg-color);\n",
              "    box-shadow: 0 1px 2px rgba(60, 64, 67, 0.3), 0 1px 3px 1px rgba(60, 64, 67, 0.15);\n",
              "    fill: var(--button-hover-fill-color);\n",
              "  }\n",
              "\n",
              "  .colab-df-quickchart-complete:disabled,\n",
              "  .colab-df-quickchart-complete:disabled:hover {\n",
              "    background-color: var(--disabled-bg-color);\n",
              "    fill: var(--disabled-fill-color);\n",
              "    box-shadow: none;\n",
              "  }\n",
              "\n",
              "  .colab-df-spinner {\n",
              "    border: 2px solid var(--fill-color);\n",
              "    border-color: transparent;\n",
              "    border-bottom-color: var(--fill-color);\n",
              "    animation:\n",
              "      spin 1s steps(1) infinite;\n",
              "  }\n",
              "\n",
              "  @keyframes spin {\n",
              "    0% {\n",
              "      border-color: transparent;\n",
              "      border-bottom-color: var(--fill-color);\n",
              "      border-left-color: var(--fill-color);\n",
              "    }\n",
              "    20% {\n",
              "      border-color: transparent;\n",
              "      border-left-color: var(--fill-color);\n",
              "      border-top-color: var(--fill-color);\n",
              "    }\n",
              "    30% {\n",
              "      border-color: transparent;\n",
              "      border-left-color: var(--fill-color);\n",
              "      border-top-color: var(--fill-color);\n",
              "      border-right-color: var(--fill-color);\n",
              "    }\n",
              "    40% {\n",
              "      border-color: transparent;\n",
              "      border-right-color: var(--fill-color);\n",
              "      border-top-color: var(--fill-color);\n",
              "    }\n",
              "    60% {\n",
              "      border-color: transparent;\n",
              "      border-right-color: var(--fill-color);\n",
              "    }\n",
              "    80% {\n",
              "      border-color: transparent;\n",
              "      border-right-color: var(--fill-color);\n",
              "      border-bottom-color: var(--fill-color);\n",
              "    }\n",
              "    90% {\n",
              "      border-color: transparent;\n",
              "      border-bottom-color: var(--fill-color);\n",
              "    }\n",
              "  }\n",
              "</style>\n",
              "\n",
              "  <script>\n",
              "    async function quickchart(key) {\n",
              "      const quickchartButtonEl =\n",
              "        document.querySelector('#' + key + ' button');\n",
              "      quickchartButtonEl.disabled = true;  // To prevent multiple clicks.\n",
              "      quickchartButtonEl.classList.add('colab-df-spinner');\n",
              "      try {\n",
              "        const charts = await google.colab.kernel.invokeFunction(\n",
              "            'suggestCharts', [key], {});\n",
              "      } catch (error) {\n",
              "        console.error('Error during call to suggestCharts:', error);\n",
              "      }\n",
              "      quickchartButtonEl.classList.remove('colab-df-spinner');\n",
              "      quickchartButtonEl.classList.add('colab-df-quickchart-complete');\n",
              "    }\n",
              "    (() => {\n",
              "      let quickchartButtonEl =\n",
              "        document.querySelector('#df-56b87701-ab6a-4920-a2f9-25debe45aa34 button');\n",
              "      quickchartButtonEl.style.display =\n",
              "        google.colab.kernel.accessAllowed ? 'block' : 'none';\n",
              "    })();\n",
              "  </script>\n",
              "</div>\n",
              "\n",
              "    </div>\n",
              "  </div>\n"
            ],
            "application/vnd.google.colaboratory.intrinsic+json": {
              "type": "dataframe",
              "variable_name": "sales_data",
              "summary": "{\n  \"name\": \"sales_data\",\n  \"rows\": 99,\n  \"fields\": [\n    {\n      \"column\": \"Region\",\n      \"properties\": {\n        \"dtype\": \"category\",\n        \"num_unique_values\": 7,\n        \"samples\": [\n          \"Sub-Saharan Africa\",\n          \"Middle East and North Africa\",\n          \"Central America and the Caribbean\"\n        ],\n        \"semantic_type\": \"\",\n        \"description\": \"\"\n      }\n    },\n    {\n      \"column\": \"Country\",\n      \"properties\": {\n        \"dtype\": \"string\",\n        \"num_unique_values\": 80,\n        \"samples\": [\n          \"Samoa \",\n          \"South Africa\",\n          \"Dominican Republic\"\n        ],\n        \"semantic_type\": \"\",\n        \"description\": \"\"\n      }\n    },\n    {\n      \"column\": \"Item Type\",\n      \"properties\": {\n        \"dtype\": \"category\",\n        \"num_unique_values\": 12,\n        \"samples\": [\n          \"Baby Food\",\n          \"Vegetables\",\n          \"Fruits\"\n        ],\n        \"semantic_type\": \"\",\n        \"description\": \"\"\n      }\n    },\n    {\n      \"column\": \"Sales Channel\",\n      \"properties\": {\n        \"dtype\": \"category\",\n        \"num_unique_values\": 2,\n        \"samples\": [\n          \"Online\",\n          \"Offline\"\n        ],\n        \"semantic_type\": \"\",\n        \"description\": \"\"\n      }\n    },\n    {\n      \"column\": \"Order Priority\",\n      \"properties\": {\n        \"dtype\": \"category\",\n        \"num_unique_values\": 4,\n        \"samples\": [\n          \"H\",\n          \"C\"\n        ],\n        \"semantic_type\": \"\",\n        \"description\": \"\"\n      }\n    },\n    {\n      \"column\": \"Order Date\",\n      \"properties\": {\n        \"dtype\": \"object\",\n        \"num_unique_values\": 96,\n        \"samples\": [\n          \"10/22/2012\",\n          \"11/2/2011\"\n        ],\n        \"semantic_type\": \"\",\n        \"description\": \"\"\n      }\n    },\n    {\n      \"column\": \"Order ID\",\n      \"properties\": {\n        \"dtype\": \"number\",\n        \"std\": 252424009,\n        \"min\": 101328551,\n        \"max\": 955894076,\n        \"num_unique_values\": 99,\n        \"samples\": [\n          294530856,\n          925136649\n        ],\n        \"semantic_type\": \"\",\n        \"description\": \"\"\n      }\n    },\n    {\n      \"column\": \"Ship Date\",\n      \"properties\": {\n        \"dtype\": \"object\",\n        \"num_unique_values\": 98,\n        \"samples\": [\n          \"8/27/2014\",\n          \"7/13/2016\"\n        ],\n        \"semantic_type\": \"\",\n        \"description\": \"\"\n      }\n    },\n    {\n      \"column\": \"UnitsSold\",\n      \"properties\": {\n        \"dtype\": \"number\",\n        \"std\": 2992,\n        \"min\": 259,\n        \"max\": 9976,\n        \"num_unique_values\": 98,\n        \"samples\": [\n          7080,\n          7348\n        ],\n        \"semantic_type\": \"\",\n        \"description\": \"\"\n      }\n    },\n    {\n      \"column\": \"UnitPrice\",\n      \"properties\": {\n        \"dtype\": \"number\",\n        \"std\": 233.45890763050895,\n        \"min\": 9.33,\n        \"max\": 668.27,\n        \"num_unique_values\": 12,\n        \"samples\": [\n          255.28,\n          154.06\n        ],\n        \"semantic_type\": \"\",\n        \"description\": \"\"\n      }\n    },\n    {\n      \"column\": \"UnitCost\",\n      \"properties\": {\n        \"dtype\": \"number\",\n        \"std\": 185.36558568070714,\n        \"min\": 6.92,\n        \"max\": 524.96,\n        \"num_unique_values\": 12,\n        \"samples\": [\n          159.42,\n          90.93\n        ],\n        \"semantic_type\": \"\",\n        \"description\": \"\"\n      }\n    },\n    {\n      \"column\": \"TotalRevenue\",\n      \"properties\": {\n        \"dtype\": \"number\",\n        \"std\": 1724089.5308848463,\n        \"min\": 12343.59,\n        \"max\": 6666661.52,\n        \"num_unique_values\": 99,\n        \"samples\": [\n          1456356.0,\n          802989.44\n        ],\n        \"semantic_type\": \"\",\n        \"description\": \"\"\n      }\n    },\n    {\n      \"column\": \"TotalCost\",\n      \"properties\": {\n        \"dtype\": \"number\",\n        \"std\": 1337149.1198621995,\n        \"min\": 9155.16,\n        \"max\": 5051690.08,\n        \"num_unique_values\": 99,\n        \"samples\": [\n          829138.8,\n          263352.32\n        ],\n        \"semantic_type\": \"\",\n        \"description\": \"\"\n      }\n    },\n    {\n      \"column\": \"TotalProfit\",\n      \"properties\": {\n        \"dtype\": \"number\",\n        \"std\": 450388.70684659405,\n        \"min\": 3188.43,\n        \"max\": 1681149.03,\n        \"num_unique_values\": 99,\n        \"samples\": [\n          627217.2,\n          539637.12\n        ],\n        \"semantic_type\": \"\",\n        \"description\": \"\"\n      }\n    }\n  ]\n}"
            }
          },
          "metadata": {},
          "execution_count": 37
        }
      ]
    },
    {
      "cell_type": "code",
      "source": [
        "sales_data.info()"
      ],
      "metadata": {
        "colab": {
          "base_uri": "https://localhost:8080/"
        },
        "id": "hgVFEIzWT3Hd",
        "outputId": "bc31d24c-3d55-4bbb-9e5b-b44c8f1de397"
      },
      "execution_count": 38,
      "outputs": [
        {
          "output_type": "stream",
          "name": "stdout",
          "text": [
            "<class 'pandas.core.frame.DataFrame'>\n",
            "RangeIndex: 99 entries, 0 to 98\n",
            "Data columns (total 14 columns):\n",
            " #   Column          Non-Null Count  Dtype  \n",
            "---  ------          --------------  -----  \n",
            " 0   Region          99 non-null     object \n",
            " 1   Country         99 non-null     object \n",
            " 2   Item Type       99 non-null     object \n",
            " 3   Sales Channel   99 non-null     object \n",
            " 4   Order Priority  99 non-null     object \n",
            " 5   Order Date      99 non-null     object \n",
            " 6   Order ID        99 non-null     int64  \n",
            " 7   Ship Date       99 non-null     object \n",
            " 8   UnitsSold       99 non-null     int64  \n",
            " 9   UnitPrice       99 non-null     float64\n",
            " 10  UnitCost        99 non-null     float64\n",
            " 11  TotalRevenue    99 non-null     float64\n",
            " 12  TotalCost       99 non-null     float64\n",
            " 13  TotalProfit     99 non-null     float64\n",
            "dtypes: float64(5), int64(2), object(7)\n",
            "memory usage: 11.0+ KB\n"
          ]
        }
      ]
    },
    {
      "cell_type": "code",
      "source": [
        "import pandas as pd\n",
        "from datetime import datetime\n",
        "for _, row in sales_data.iterrows():\n",
        "    row[\"Order Date\"] =datetime.strptime( row[\"Order Date\"] , \"%m/%d/%Y\").date() # Converting string to date\n",
        "\n",
        "    row[\"Ship Date\"] =datetime.strptime(row[\"Ship Date\"], \"%m/%d/%Y\").date()   # Converting string to timestamp"
      ],
      "metadata": {
        "id": "4nzDCzSvTbLd"
      },
      "execution_count": 39,
      "outputs": []
    },
    {
      "cell_type": "markdown",
      "source": [
        "# Create Bronze table for raw data"
      ],
      "metadata": {
        "id": "ptLMt8MVmsEU"
      }
    },
    {
      "cell_type": "code",
      "source": [
        "session.execute(\"DROP TABLE IF EXISTS bronze_sales_data \")\n",
        "\n",
        "session.execute(\"\"\"\n",
        "    CREATE TABLE IF NOT EXISTS bronze_sales_data (\n",
        "        region TEXT,\n",
        "        country TEXT,\n",
        "        item_type TEXT,\n",
        "        sales_channel TEXT,\n",
        "        order_priority TEXT,\n",
        "        order_date TEXT,\n",
        "        order_id BIGINT PRIMARY KEY,\n",
        "        ship_date TEXT,\n",
        "        units_sold INT,\n",
        "        unit_price FLOAT,\n",
        "        unit_cost FLOAT,\n",
        "        total_revenue FLOAT,\n",
        "        total_cost FLOAT,\n",
        "        total_profit FLOAT\n",
        "    )\n",
        "\"\"\")\n",
        "\n",
        "# Insert raw data (assuming `data` is your pandas DataFrame)\n",
        "for _, row in sales_data.iterrows():\n",
        "    session.execute(\"\"\"\n",
        "        INSERT INTO bronze_sales_data (region, country, item_type, sales_channel, order_priority,\n",
        "            order_date, order_id, ship_date, units_sold, unit_price, unit_cost, total_revenue, total_cost, total_profit)\n",
        "        VALUES (%s, %s, %s, %s, %s, %s, %s, %s, %s, %s, %s, %s, %s, %s)\n",
        "    \"\"\", (\n",
        "        row['Region'], row['Country'], row['Item Type'], row['Sales Channel'], row['Order Priority'],\n",
        "        row['Order Date'], row['Order ID'], row['Ship Date'], row['UnitsSold'], row['UnitPrice'],\n",
        "        row['UnitCost'], row['TotalRevenue'], row['TotalCost'], row['TotalProfit']\n",
        "    ))\n"
      ],
      "metadata": {
        "id": "RYNMNaxOHa2U"
      },
      "execution_count": 40,
      "outputs": []
    },
    {
      "source": [
        "\n",
        "rows = session.execute(\"SELECT order_id, COUNT(*) AS count FROM bronze_sales_data GROUP BY order_id\")\n",
        "\n",
        "duplicate_order_ids = [row.order_id for row in rows if row.count > 1]\n",
        "\n",
        "print(f\"Duplicate order IDs: {duplicate_order_ids}\")"
      ],
      "cell_type": "code",
      "metadata": {
        "colab": {
          "base_uri": "https://localhost:8080/"
        },
        "id": "9sKZXOoBdwAy",
        "outputId": "018ead66-22f3-41c5-94a7-ca2c22b04797"
      },
      "execution_count": 41,
      "outputs": [
        {
          "output_type": "stream",
          "name": "stderr",
          "text": [
            "WARNING:cassandra.protocol:Server warning: Aggregation query used without partition key\n"
          ]
        },
        {
          "output_type": "stream",
          "name": "stdout",
          "text": [
            "Duplicate order IDs: []\n"
          ]
        }
      ]
    },
    {
      "cell_type": "markdown",
      "source": [
        "# **SILVER TABLE**"
      ],
      "metadata": {
        "id": "cPD2nF7qm1-e"
      }
    },
    {
      "cell_type": "code",
      "source": [
        "session.execute(\"\"\"CREATE TABLE IF NOT EXISTS silver_sales_data (\n",
        "        region TEXT,\n",
        "        country TEXT,\n",
        "        item_type TEXT,\n",
        "        sales_channel TEXT,\n",
        "        order_priority TEXT,\n",
        "        order_date TEXT,\n",
        "        order_id BIGINT PRIMARY KEY,\n",
        "        ship_date TEXT,\n",
        "        units_sold INT,\n",
        "        unit_price FLOAT,\n",
        "        unit_cost FLOAT,\n",
        "        total_revenue FLOAT,\n",
        "        total_cost FLOAT,\n",
        "        total_profit FLOAT\n",
        ")\"\"\");\n"
      ],
      "metadata": {
        "id": "vN5ebL0TH_tf"
      },
      "execution_count": 42,
      "outputs": []
    },
    {
      "cell_type": "code",
      "source": [
        "row=session.execute(\"select * from bronze_sales_data \");\n",
        "row.column_names, row.column_types"
      ],
      "metadata": {
        "colab": {
          "base_uri": "https://localhost:8080/"
        },
        "id": "sBMcNTUrM-oH",
        "outputId": "4b7866fa-c513-4695-a44b-03929b7fdda3"
      },
      "execution_count": 43,
      "outputs": [
        {
          "output_type": "execute_result",
          "data": {
            "text/plain": [
              "(['order_id',\n",
              "  'country',\n",
              "  'item_type',\n",
              "  'order_date',\n",
              "  'order_priority',\n",
              "  'region',\n",
              "  'sales_channel',\n",
              "  'ship_date',\n",
              "  'total_cost',\n",
              "  'total_profit',\n",
              "  'total_revenue',\n",
              "  'unit_cost',\n",
              "  'unit_price',\n",
              "  'units_sold'],\n",
              " [cassandra.cqltypes.LongType,\n",
              "  cassandra.cqltypes.VarcharType,\n",
              "  cassandra.cqltypes.VarcharType,\n",
              "  cassandra.cqltypes.VarcharType,\n",
              "  cassandra.cqltypes.VarcharType,\n",
              "  cassandra.cqltypes.VarcharType,\n",
              "  cassandra.cqltypes.VarcharType,\n",
              "  cassandra.cqltypes.VarcharType,\n",
              "  cassandra.cqltypes.FloatType,\n",
              "  cassandra.cqltypes.FloatType,\n",
              "  cassandra.cqltypes.FloatType,\n",
              "  cassandra.cqltypes.FloatType,\n",
              "  cassandra.cqltypes.FloatType,\n",
              "  cassandra.cqltypes.Int32Type])"
            ]
          },
          "metadata": {},
          "execution_count": 43
        }
      ]
    },
    {
      "cell_type": "code",
      "source": [
        "row.column_types"
      ],
      "metadata": {
        "colab": {
          "base_uri": "https://localhost:8080/"
        },
        "id": "SXSqqECeOwfB",
        "outputId": "89805769-5131-4b4c-9a72-0b6f0281e3c2"
      },
      "execution_count": 44,
      "outputs": [
        {
          "output_type": "execute_result",
          "data": {
            "text/plain": [
              "[cassandra.cqltypes.LongType,\n",
              " cassandra.cqltypes.VarcharType,\n",
              " cassandra.cqltypes.VarcharType,\n",
              " cassandra.cqltypes.VarcharType,\n",
              " cassandra.cqltypes.VarcharType,\n",
              " cassandra.cqltypes.VarcharType,\n",
              " cassandra.cqltypes.VarcharType,\n",
              " cassandra.cqltypes.VarcharType,\n",
              " cassandra.cqltypes.FloatType,\n",
              " cassandra.cqltypes.FloatType,\n",
              " cassandra.cqltypes.FloatType,\n",
              " cassandra.cqltypes.FloatType,\n",
              " cassandra.cqltypes.FloatType,\n",
              " cassandra.cqltypes.Int32Type]"
            ]
          },
          "metadata": {},
          "execution_count": 44
        }
      ]
    },
    {
      "cell_type": "code",
      "source": [
        "row=session.execute(\"select * from bronze_sales_data \");\n",
        "row.column_names"
      ],
      "metadata": {
        "colab": {
          "base_uri": "https://localhost:8080/"
        },
        "id": "ry8xB3geXw0W",
        "outputId": "85283813-f6eb-46d0-de2c-c246bf90d0cd"
      },
      "execution_count": 45,
      "outputs": [
        {
          "output_type": "execute_result",
          "data": {
            "text/plain": [
              "['order_id',\n",
              " 'country',\n",
              " 'item_type',\n",
              " 'order_date',\n",
              " 'order_priority',\n",
              " 'region',\n",
              " 'sales_channel',\n",
              " 'ship_date',\n",
              " 'total_cost',\n",
              " 'total_profit',\n",
              " 'total_revenue',\n",
              " 'unit_cost',\n",
              " 'unit_price',\n",
              " 'units_sold']"
            ]
          },
          "metadata": {},
          "execution_count": 45
        }
      ]
    },
    {
      "cell_type": "code",
      "source": [
        "rows = session.execute(\"SELECT * FROM bronze_sales_data\")\n",
        "\n",
        "for row in rows:\n",
        "    session.execute(\"\"\"\n",
        "        INSERT INTO silver_sales_data (region, country, item_type, sales_channel, order_id,\n",
        "            units_sold, unit_price, unit_cost, total_revenue, total_cost, total_profit,\n",
        "            order_date, order_priority, ship_date)\n",
        "        VALUES (%s, %s, %s, %s, %s, %s, %s, %s, %s, %s, %s, %s, %s, %s)\n",
        "    \"\"\", (\n",
        "        row.region, row.country, row.item_type, row.sales_channel, row.order_id,\n",
        "        row.units_sold, row.unit_price, row.unit_cost, row.total_revenue,\n",
        "        row.total_cost, row.total_profit,\n",
        "        row.order_date, row.order_priority, row.ship_date  # Added values here\n",
        "    ))"
      ],
      "metadata": {
        "id": "TYtZMFpPXmyy"
      },
      "execution_count": 48,
      "outputs": []
    },
    {
      "cell_type": "code",
      "source": [
        "session.execute(\"\"\"\n",
        "  ALTER TABLE silver_sales_data DROP order_date;\n",
        "\n",
        "\"\"\")"
      ],
      "metadata": {
        "colab": {
          "base_uri": "https://localhost:8080/"
        },
        "id": "fvJ7lqrGjQoj",
        "outputId": "cda70d04-81f6-4476-9a40-b83d5deec840"
      },
      "execution_count": 49,
      "outputs": [
        {
          "output_type": "execute_result",
          "data": {
            "text/plain": [
              "<cassandra.cluster.ResultSet at 0x7cb740685cc0>"
            ]
          },
          "metadata": {},
          "execution_count": 49
        }
      ]
    },
    {
      "cell_type": "code",
      "source": [
        "session.execute(\"\"\"\n",
        "  ALTER TABLE silver_sales_data DROP order_priority;\n",
        "\n",
        "\"\"\")"
      ],
      "metadata": {
        "colab": {
          "base_uri": "https://localhost:8080/"
        },
        "id": "LgR0Oa3hjUtA",
        "outputId": "d2ca4615-32de-47b5-939b-4373451e2523"
      },
      "execution_count": 50,
      "outputs": [
        {
          "output_type": "execute_result",
          "data": {
            "text/plain": [
              "<cassandra.cluster.ResultSet at 0x7cb788b6e4a0>"
            ]
          },
          "metadata": {},
          "execution_count": 50
        }
      ]
    },
    {
      "cell_type": "code",
      "source": [
        "session.execute(\"\"\"\n",
        "  ALTER TABLE silver_sales_data DROP ship_date;\n",
        "\n",
        "\"\"\")"
      ],
      "metadata": {
        "colab": {
          "base_uri": "https://localhost:8080/"
        },
        "id": "LGjZ68xNjasN",
        "outputId": "e9623a18-ca66-47e6-b7a2-9094bf0a4853"
      },
      "execution_count": 51,
      "outputs": [
        {
          "output_type": "execute_result",
          "data": {
            "text/plain": [
              "<cassandra.cluster.ResultSet at 0x7cb741ca1c00>"
            ]
          },
          "metadata": {},
          "execution_count": 51
        }
      ]
    },
    {
      "cell_type": "code",
      "source": [
        "session.execute(\"\"\"\n",
        "  ALTER TABLE silver_sales_data DROP region;\n",
        "\n",
        "\"\"\")"
      ],
      "metadata": {
        "colab": {
          "base_uri": "https://localhost:8080/"
        },
        "id": "SuClsrj6jgHe",
        "outputId": "3ce8434b-427b-4df1-cff1-d32e0ec8b13b"
      },
      "execution_count": 52,
      "outputs": [
        {
          "output_type": "execute_result",
          "data": {
            "text/plain": [
              "<cassandra.cluster.ResultSet at 0x7cb740fa07c0>"
            ]
          },
          "metadata": {},
          "execution_count": 52
        }
      ]
    },
    {
      "cell_type": "code",
      "source": [
        "session.execute(\"\"\"CREATE TABLE IF NOT EXISTS Gold_data (\n",
        "\n",
        "    country TEXT,\n",
        "    item_type TEXT,\n",
        "    sales_channel TEXT,\n",
        "\n",
        "\n",
        "    order_id BIGINT PRIMARY KEY,\n",
        "\n",
        "    units_sold INT,\n",
        "    unit_price FLOAT,\n",
        "    unit_cost FLOAT,\n",
        "    total_revenue FLOAT,\n",
        "    total_cost FLOAT,\n",
        "    total_profit FLOAT\n",
        ")\"\"\");"
      ],
      "metadata": {
        "id": "nkTrVsMHig-l"
      },
      "execution_count": 53,
      "outputs": []
    },
    {
      "cell_type": "code",
      "source": [
        "rows = session.execute(\"SELECT * FROM silver_sales_data\")\n",
        "\n",
        "for row in rows:\n",
        "    session.execute(\"\"\"\n",
        "        INSERT INTO Gold_data (country, item_type, sales_channel, order_id,\n",
        "            units_sold, unit_price, unit_cost, total_revenue, total_cost, total_profit)\n",
        "        VALUES (%s, %s, %s, %s, %s, %s, %s, %s, %s, %s)\n",
        "    \"\"\", (\n",
        "        row.country, row.item_type, row.sales_channel, row.order_id,\n",
        "        row.units_sold, row.unit_price, row.unit_cost, row.total_revenue,\n",
        "        row.total_cost, row.total_profit\n",
        "    ))"
      ],
      "metadata": {
        "id": "eutIbbtZidLL"
      },
      "execution_count": 54,
      "outputs": []
    },
    {
      "cell_type": "markdown",
      "source": [
        "# Analysis 1:"
      ],
      "metadata": {
        "id": "sCJvnNP_nplY"
      }
    },
    {
      "source": [
        "from collections import defaultdict\n",
        "\n",
        "rows = session.execute(\"SELECT sales_channel, total_profit FROM silver_sales_data \")\n",
        "\n",
        "\n",
        "profit_per_channel = defaultdict(float)\n",
        "for row in rows:\n",
        "    profit_per_channel[row.sales_channel] += row.total_profit\n",
        "\n",
        "\n",
        "for channel, profit in profit_per_channel.items():\n",
        "    print(f\"Sales Channel: {channel}, Total Profit: {profit}\")\n",
        "\n"
      ],
      "cell_type": "code",
      "metadata": {
        "colab": {
          "base_uri": "https://localhost:8080/"
        },
        "id": "mC0opPEZfrjT",
        "outputId": "ac9aa1d9-bda7-4e8e-a5a6-ed52eef2fa15"
      },
      "execution_count": 55,
      "outputs": [
        {
          "output_type": "stream",
          "name": "stdout",
          "text": [
            "Sales Channel: Online, Total Profit: 24963806.923095703\n",
            "Sales Channel: Offline, Total Profit: 16363385.622558594\n"
          ]
        }
      ]
    },
    {
      "cell_type": "code",
      "source": [
        "for channel, profit in profit_per_channel.items():\n",
        "    session.execute(\"\"\"\n",
        "        INSERT INTO gold_sales_channel_profit (sales_channel, total_profit)\n",
        "        VALUES (%s, %s)\n",
        "    \"\"\", (channel, profit))\n"
      ],
      "metadata": {
        "id": "SaPozxDeppOy"
      },
      "execution_count": 62,
      "outputs": []
    },
    {
      "cell_type": "markdown",
      "source": [
        "# Analysis 2: Total Profit by Country"
      ],
      "metadata": {
        "id": "DCElL5Cqnfll"
      }
    },
    {
      "source": [
        "session.execute(\"\"\"CREATE TABLE IF NOT EXISTS gold_country_profit (\n",
        "    country TEXT PRIMARY KEY,\n",
        "    total_profit FLOAT\n",
        ");\"\"\");\n",
        "\n",
        "query1 = \"SELECT country, total_profit FROM Gold_data\"\n",
        "results1 = session.execute(query1)\n",
        "\n",
        "# Step 3: Aggregate total profit by country\n",
        "profit_by_country = defaultdict(float)\n",
        "for row in results1:\n",
        "    profit_by_country[row.country] += row.total_profit\n",
        "\n",
        "# Step 4: Insert aggregated data into the new table\n",
        "for country, profit in profit_by_country.items():\n",
        "    session.execute(\"\"\"\n",
        "        INSERT INTO gold_country_profit (country, total_profit)\n",
        "        VALUES (%s, %s)\n",
        "    \"\"\", (country, profit))\n",
        "\n",
        "# Step 5: Optional: Print the results\n",
        "for country, profit in profit_by_country.items():\n",
        "    print(f\"Country: {country}, Total Profit: {profit}\")\n"
      ],
      "cell_type": "code",
      "metadata": {
        "colab": {
          "base_uri": "https://localhost:8080/"
        },
        "id": "e0F9cXEfl84I",
        "outputId": "a3f0ce38-fee5-4866-a464-644404974205"
      },
      "execution_count": 64,
      "outputs": [
        {
          "output_type": "stream",
          "name": "stdout",
          "text": [
            "Country: Italy, Total Profit: 1271915.78125\n",
            "Country: Dominica, Total Profit: 1266075.78125\n",
            "Country: Taiwan, Total Profit: 851842.189453125\n",
            "Country: New Zealand, Total Profit: 90640.078125\n",
            "Country: France, Total Profit: 1001143.4375\n",
            "Country: Switzerland, Total Profit: 711923.75\n",
            "Country: Zimbabwe, Total Profit: 1214903.75\n",
            "Country: United Arab Emirates, Total Profit: 1212378.75\n",
            "Country: Mauritius , Total Profit: 405388.8125\n",
            "Country: The Bahamas, Total Profit: 240396.619140625\n",
            "Country: Canada, Total Profit: 1297765.625\n",
            "Country: Vanuatu, Total Profit: 517101.130859375\n",
            "Country: South Africa, Total Profit: 3839.1298828125\n",
            "Country: East Timor, Total Profit: 22944.810546875\n",
            "Country: Ethiopia, Total Profit: 115101.9375\n",
            "Country: Indonesia, Total Profit: 336458.1484375\n",
            "Country: Serbia, Total Profit: 539637.125\n",
            "Country: Belgium, Total Profit: 70844.6171875\n",
            "Country: Togo, Total Profit: 835619.25\n",
            "Country: Tonga, Total Profit: 530201.6875\n",
            "Country: Pakistan, Total Profit: 570226.8125\n",
            "Country: Netherlands, Total Profit: 23827.669921875\n",
            "Country: Thailand, Total Profit: 255484.75317382812\n",
            "Country: The Gambia, Total Profit: 20964.58984375\n",
            "Country: Romania, Total Profit: 721723.2734375\n",
            "Country: Tunisia , Total Profit: 425981.5\n",
            "Country: Turkmenistan, Total Profit: 718860.28125\n",
            "Country: Ghana, Total Profit: 398024.2736816406\n",
            "Country: Kazakhstan, Total Profit: 74549.28125\n",
            "Country: Finland, Total Profit: 1394432.73828125\n",
            "Country: Nicaragua, Total Profit: 1568333.625\n",
            "Country: Democratic Republic of the Congo, Total Profit: 515872.28125\n",
            "Country: Lebanon, Total Profit: 501644.0\n",
            "Country: Sri Lanka, Total Profit: 3323.389892578125\n",
            "Country: Estonia, Total Profit: 1653322.5\n",
            "Country: Saint Lucia, Total Profit: 8630.2099609375\n",
            "Country: Israel, Total Profit: 73742.9375\n",
            "Country: Seychelles , Total Profit: 9349.01953125\n",
            "Country: Samoa , Total Profit: 937534.625\n",
            "Country: Haiti, Total Profit: 259065.0\n",
            "Country: Egypt, Total Profit: 87540.4765625\n",
            "Country: Liberia, Total Profit: 126918.640625\n",
            "Country: Mali, Total Profit: 715456.4375\n",
            "Country: Nepal, Total Profit: 543171.1875\n",
            "Country: Burundi, Total Profit: 55326.78125\n",
            "Country: South Korea, Total Profit: 408465.1875\n",
            "Country: Kuwait, Total Profit: 242960.1875\n",
            "Country: Greece, Total Profit: 768429.6875\n",
            "Country: Dominican Republic, Total Profit: 26265.640625\n",
            "Country: Uganda, Total Profit: 1059912.0595703125\n",
            "Country: Brunei, Total Profit: 374026.96875\n",
            "Country: Tanzania, Total Profit: 1396869.875\n",
            "Country: Vietnam, Total Profit: 200079.046875\n",
            "Country: Japan, Total Profit: 1390971.875\n",
            "Country: Morocco, Total Profit: 338631.84375\n",
            "Country: Papua New Guinea, Total Profit: 688308.5\n",
            "Country: Oman, Total Profit: 1380006.25\n",
            "Country: Iceland, Total Profit: 236007.3125\n",
            "Country: Moldova , Total Profit: 9003.759765625\n",
            "Country: Sweden, Total Profit: 38915.1015625\n",
            "Country: Belize, Total Profit: 88536.9765625\n",
            "Country: Antigua and Barbuda , Total Profit: 794996.25\n",
            "Country: Sao Tome and Principe, Total Profit: 202694.40625\n",
            "Country: Algeria, Total Profit: 1681149.0\n",
            "Country: Rwanda, Total Profit: 14602.1904296875\n",
            "Country: Slovakia, Total Profit: 62217.1796875\n",
            "Country: India, Total Profit: 294943.875\n",
            "Country: Solomon Islands, Total Profit: 700209.25\n",
            "Country: Czech Republic, Total Profit: 1592127.625\n",
            "Country: Monaco, Total Profit: 40856.94140625\n",
            "Country: Singapore, Total Profit: 423254.625\n",
            "Country: Malawi, Total Profit: 291376.8125\n",
            "Country: Montenegro, Total Profit: 155472.484375\n",
            "Country: United States of America, Total Profit: 106855.84375\n",
            "Country: Albania, Total Profit: 795002.953125\n",
            "Country: Malaysia, Total Profit: 143351.640625\n",
            "Country: China, Total Profit: 731113.75\n",
            "Country: Djibouti, Total Profit: 41273.28125\n",
            "Country: Madagascar, Total Profit: 228398.40625\n",
            "Country: United Kingdom, Total Profit: 180477.0625\n"
          ]
        }
      ]
    },
    {
      "cell_type": "markdown",
      "source": [
        "# Analysis 3: Average Unit Price by Item Type and Sales Channel."
      ],
      "metadata": {
        "id": "QW0YG080nYLP"
      }
    },
    {
      "source": [
        "session.execute(\"\"\"CREATE TABLE IF NOT EXISTS gold_avg_price_by_item_channel (\n",
        "    item_type TEXT,\n",
        "    sales_channel TEXT,\n",
        "    avg_unit_price FLOAT,\n",
        "    PRIMARY KEY (item_type, sales_channel)\n",
        ");\n",
        "\"\"\");\n",
        "\n",
        "\n",
        "query2 = \"SELECT item_type, sales_channel, unit_price FROM Gold_data\"\n",
        "results2 = session.execute(query2)\n",
        "\n",
        "# Step 3: Aggregate average price by item type and sales channel\n",
        "avg_price_by_item_channel = defaultdict(lambda: defaultdict(list))\n",
        "for row in results2:\n",
        "    avg_price_by_item_channel[row.item_type][row.sales_channel].append(row.unit_price)\n",
        "\n",
        "# Step 4: Compute averages and insert data into the new table\n",
        "for item_type, channels in avg_price_by_item_channel.items():\n",
        "    for channel, prices in channels.items():\n",
        "        avg_price = sum(prices) / len(prices) if prices else 0  # Avoid division by zero\n",
        "        session.execute(\"\"\"\n",
        "            INSERT INTO gold_avg_price_by_item_channel (item_type, sales_channel, avg_unit_price)\n",
        "            VALUES (%s, %s, %s)\n",
        "        \"\"\", (item_type, channel, avg_price))\n",
        "\n",
        "# Step 5: Optional: Print the results\n",
        "for item_type, channels in avg_price_by_item_channel.items():\n",
        "    for channel, prices in channels.items():\n",
        "        avg_price = sum(prices) / len(prices) if prices else 0\n",
        "        print(f\"Item Type: {item_type}, Sales Channel: {channel}, Average Unit Price: {avg_price}\")\n",
        "\n"
      ],
      "cell_type": "code",
      "metadata": {
        "colab": {
          "base_uri": "https://localhost:8080/"
        },
        "id": "U_i6XgrRmJax",
        "outputId": "31cbd304-169e-4c85-8a5e-fa1edb34acfd"
      },
      "execution_count": 65,
      "outputs": [
        {
          "output_type": "stream",
          "name": "stdout",
          "text": [
            "Item Type: Cereal, Sales Channel: Online, Average Unit Price: 205.6999969482422\n",
            "Item Type: Cereal, Sales Channel: Offline, Average Unit Price: 205.6999969482422\n",
            "Item Type: Household, Sales Channel: Offline, Average Unit Price: 668.27001953125\n",
            "Item Type: Household, Sales Channel: Online, Average Unit Price: 668.27001953125\n",
            "Item Type: Beverages, Sales Channel: Online, Average Unit Price: 47.45000076293945\n",
            "Item Type: Beverages, Sales Channel: Offline, Average Unit Price: 47.45000076293945\n",
            "Item Type: Cosmetics, Sales Channel: Online, Average Unit Price: 437.20001220703125\n",
            "Item Type: Cosmetics, Sales Channel: Offline, Average Unit Price: 437.20001220703125\n",
            "Item Type: Office Supplies, Sales Channel: Offline, Average Unit Price: 651.2100219726562\n",
            "Item Type: Office Supplies, Sales Channel: Online, Average Unit Price: 651.2100219726562\n",
            "Item Type: Clothes, Sales Channel: Offline, Average Unit Price: 109.27999877929688\n",
            "Item Type: Clothes, Sales Channel: Online, Average Unit Price: 109.27999877929688\n",
            "Item Type: Personal Care, Sales Channel: Online, Average Unit Price: 81.7300033569336\n",
            "Item Type: Personal Care, Sales Channel: Offline, Average Unit Price: 81.7300033569336\n",
            "Item Type: Fruits, Sales Channel: Offline, Average Unit Price: 9.329999923706055\n",
            "Item Type: Fruits, Sales Channel: Online, Average Unit Price: 9.329999923706055\n",
            "Item Type: Baby Food, Sales Channel: Online, Average Unit Price: 255.27999877929688\n",
            "Item Type: Baby Food, Sales Channel: Offline, Average Unit Price: 255.27999877929688\n",
            "Item Type: Meat, Sales Channel: Online, Average Unit Price: 421.8900146484375\n",
            "Item Type: Meat, Sales Channel: Offline, Average Unit Price: 421.8900146484375\n",
            "Item Type: Vegetables, Sales Channel: Online, Average Unit Price: 154.05999755859375\n",
            "Item Type: Vegetables, Sales Channel: Offline, Average Unit Price: 154.05999755859375\n",
            "Item Type: Snacks, Sales Channel: Online, Average Unit Price: 152.5800018310547\n"
          ]
        }
      ]
    },
    {
      "cell_type": "code",
      "source": [],
      "metadata": {
        "id": "tHxsUUnmq_yz"
      },
      "execution_count": null,
      "outputs": []
    }
  ]
}